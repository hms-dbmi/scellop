{
 "cells": [
  {
   "cell_type": "markdown",
   "metadata": {},
   "source": [
    "# Usage of scellop"
   ]
  },
  {
   "cell_type": "code",
   "execution_count": null,
   "metadata": {},
   "outputs": [],
   "source": [
    "%load_ext autoreload\n",
    "%autoreload 2\n",
    "%env ANYWIDGET_HMR=1"
   ]
  },
  {
   "cell_type": "markdown",
   "metadata": {},
   "source": [
    "## This widget can be used with HuBMAP data by directly loading in the UUIDs."
   ]
  },
  {
   "cell_type": "code",
   "execution_count": null,
   "metadata": {},
   "outputs": [],
   "source": [
    "uuids = [\"ad693f99fb9006e68a53e97598da1509\",\"173de2e80adf6a73ac8cff5ccce20dfc\",\"b95f34761c252ebbd1e482cd9afae73f\",\"5a5ca03fa623602d9a859224aa40ace4\",\"3c1b10bc912c60c9afc36b7423695236\",\"1dc16eb0270ff73291dd45b6a96aa3c0\",\"b05c21f9c94ce1a22a9694cd0fe0291e\",\"8cdb42ed1194255c74c8462b99bbd7ef\",\"fe0ded5fc0355c95239f9c040dd31e99\",\"367fee3b40cba682063289505b922be1\",\"b99fc30c4195958fbef217fa9ed9ec8f\",\"898138b7f45a67c574e9955fb400e9be\",\"f220c9e7bcaea3a87162cbe61287ea4d\",\"e5f7a14d93659bd0b8dc2819ffa9bc4b\",\"56cbda4789f04d79c0c3dffe21816d48\",\"0b6f63f2bd61a8c091fc7afc0f318ad1\",\"62efbe0a6abd0bcf53ab9ab29e7cd73f\",\"4b62d9d2c248323ce029859f953fdc57\",\"c81b0dc9d16eb825a7d6bce6e1b3678f\",\"5ee240959c96b49d960702755478b9fc\",\"7c9e07c96d144536525b1f889acee14d\",\"dd7ccbc306692fc5ff5e61c22845da21\",\"9a7e6be288b27ddbd3366c4ae41bbcd2\",\"018a905cdbdff684760859f594d3fd77\",\"af5741dad7aecf7960a129c3d2ae642a\",\"6e1db473492095ccc2f1393d7259b9c0\",\"fae9a1f2e7abefca2203765a3c7a5ba1\",\"8d631eee88855ac59155edca2a3bc1ca\",\"1ea6c0ac5ba60fe35bf63af8699b6fbe\"]"
   ]
  },
  {
   "cell_type": "code",
   "execution_count": null,
   "metadata": {},
   "outputs": [],
   "source": [
    "from cellpop import CpWidget\n",
    "CpWidget(uuids=uuids)"
   ]
  },
  {
   "cell_type": "markdown",
   "metadata": {},
   "source": [
    "## It can also be loaded directly from Pandas DataFrames with counts."
   ]
  },
  {
   "cell_type": "code",
   "execution_count": null,
   "metadata": {},
   "outputs": [],
   "source": [
    "import numpy as np\n",
    "import pandas as pd"
   ]
  },
  {
   "cell_type": "code",
   "execution_count": null,
   "metadata": {},
   "outputs": [],
   "source": [
    "df = pd.DataFrame(np.random.randint(0,100,size=(100, 26)), columns=list('ABCDEFGHIJKLMNOPQRSTUVWXYZ'))"
   ]
  },
  {
   "cell_type": "code",
   "execution_count": null,
   "metadata": {},
   "outputs": [],
   "source": [
    "CpWidget(df=df)"
   ]
  },
  {
   "cell_type": "markdown",
   "metadata": {},
   "source": [
    "## Or from a Pandas DataFrame where different columns correspond to the desired rows and columns."
   ]
  },
  {
   "cell_type": "code",
   "execution_count": null,
   "metadata": {},
   "outputs": [],
   "source": [
    "from cellpop import cpDfMulti"
   ]
  },
  {
   "cell_type": "code",
   "execution_count": null,
   "metadata": {},
   "outputs": [],
   "source": [
    "rows = np.random.choice([f'r{i}' for i in range(100)], size=100000)\n",
    "cols = np.random.choice([f'c{i}' for i in range(100)], size=100000)\n",
    "\n",
    "generated = pd.DataFrame({\n",
    "    'id': range(100000),\n",
    "    'row': rows,\n",
    "    'col': cols\n",
    "})\n",
    "\n",
    "df = cpDfMulti(generated, \"row\", \"col\")\n",
    "CpWidget(df=df)"
   ]
  }
 ],
 "metadata": {
  "kernelspec": {
   "display_name": "cellpop (3.12.6)",
   "language": "python",
   "name": "python3"
  },
  "language_info": {
   "codemirror_mode": {
    "name": "ipython",
    "version": 3
   },
   "file_extension": ".py",
   "mimetype": "text/x-python",
   "name": "python",
   "nbconvert_exporter": "python",
   "pygments_lexer": "ipython3",
   "version": "3.12.6"
  }
 },
 "nbformat": 4,
 "nbformat_minor": 4
}
